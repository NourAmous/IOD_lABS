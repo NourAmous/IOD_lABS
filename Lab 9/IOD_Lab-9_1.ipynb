{
 "cells": [
  {
   "cell_type": "markdown",
   "metadata": {
    "colab_type": "text",
    "id": "gn3SG1yo1KdV"
   },
   "source": [
    "<div>\n",
    "<img src=https://www.institutedata.com/wp-content/uploads/2019/10/iod_h_tp_primary_c.svg width=\"300\">\n",
    "</div>"
   ]
  },
  {
   "cell_type": "markdown",
   "metadata": {
    "colab_type": "text",
    "id": "g-SD7a9X1KdY"
   },
   "source": [
    "# Lab 9.1: NN with Keras\n",
    "INSTRUCTIONS:\n",
    "- Read the guides and hints, then create the necessary analysis and code to find an answer and conclusion for the task below.\n",
    "- **NOTE**: This is a Regression problem. Consider the appropriate:\n",
    "    - Activation function\n",
    "    - Loss/Cost Function\n",
    "    - Metrics"
   ]
  },
  {
   "cell_type": "markdown",
   "metadata": {
    "colab_type": "text",
    "id": "ENgfRnvL1Kdc"
   },
   "source": [
    "### Import libraries"
   ]
  },
  {
   "cell_type": "code",
   "execution_count": 1,
   "metadata": {
    "colab": {},
    "colab_type": "code",
    "id": "Z9H465X-1Kde"
   },
   "outputs": [],
   "source": [
    "# insert code here\n",
    "#! pip install tensorflow\n",
    "# import keras\n",
    "from keras.models import Sequential\n",
    "from keras.layers import Dense\n",
    "from keras.wrappers.scikit_learn import KerasRegressor\n",
    "\n",
    "\n",
    "import pandas as pd\n",
    "import numpy as np\n",
    "\n",
    "%matplotlib inline\n",
    "import matplotlib.pyplot as plt\n",
    "\n",
    "from sklearn import datasets\n",
    "from sklearn.linear_model import LinearRegression\n",
    "from sklearn.model_selection import train_test_split\n",
    "\n",
    "\n",
    "\n"
   ]
  },
  {
   "cell_type": "markdown",
   "metadata": {
    "colab_type": "text",
    "id": "5FHh910J1Kdm"
   },
   "source": [
    "### Load data\n",
    "Load the Diabetes dataset from **SciKit-Learn**."
   ]
  },
  {
   "cell_type": "code",
   "execution_count": 2,
   "metadata": {
    "colab": {},
    "colab_type": "code",
    "id": "MWu8SlQF1Kdo"
   },
   "outputs": [
    {
     "data": {
      "text/plain": [
       "{'data': array([[ 0.03807591,  0.05068012,  0.06169621, ..., -0.00259226,\n",
       "          0.01990842, -0.01764613],\n",
       "        [-0.00188202, -0.04464164, -0.05147406, ..., -0.03949338,\n",
       "         -0.06832974, -0.09220405],\n",
       "        [ 0.08529891,  0.05068012,  0.04445121, ..., -0.00259226,\n",
       "          0.00286377, -0.02593034],\n",
       "        ...,\n",
       "        [ 0.04170844,  0.05068012, -0.01590626, ..., -0.01107952,\n",
       "         -0.04687948,  0.01549073],\n",
       "        [-0.04547248, -0.04464164,  0.03906215, ...,  0.02655962,\n",
       "          0.04452837, -0.02593034],\n",
       "        [-0.04547248, -0.04464164, -0.0730303 , ..., -0.03949338,\n",
       "         -0.00421986,  0.00306441]]),\n",
       " 'target': array([151.,  75., 141., 206., 135.,  97., 138.,  63., 110., 310., 101.,\n",
       "         69., 179., 185., 118., 171., 166., 144.,  97., 168.,  68.,  49.,\n",
       "         68., 245., 184., 202., 137.,  85., 131., 283., 129.,  59., 341.,\n",
       "         87.,  65., 102., 265., 276., 252.,  90., 100.,  55.,  61.,  92.,\n",
       "        259.,  53., 190., 142.,  75., 142., 155., 225.,  59., 104., 182.,\n",
       "        128.,  52.,  37., 170., 170.,  61., 144.,  52., 128.,  71., 163.,\n",
       "        150.,  97., 160., 178.,  48., 270., 202., 111.,  85.,  42., 170.,\n",
       "        200., 252., 113., 143.,  51.,  52., 210.,  65., 141.,  55., 134.,\n",
       "         42., 111.,  98., 164.,  48.,  96.,  90., 162., 150., 279.,  92.,\n",
       "         83., 128., 102., 302., 198.,  95.,  53., 134., 144., 232.,  81.,\n",
       "        104.,  59., 246., 297., 258., 229., 275., 281., 179., 200., 200.,\n",
       "        173., 180.,  84., 121., 161.,  99., 109., 115., 268., 274., 158.,\n",
       "        107.,  83., 103., 272.,  85., 280., 336., 281., 118., 317., 235.,\n",
       "         60., 174., 259., 178., 128.,  96., 126., 288.,  88., 292.,  71.,\n",
       "        197., 186.,  25.,  84.,  96., 195.,  53., 217., 172., 131., 214.,\n",
       "         59.,  70., 220., 268., 152.,  47.,  74., 295., 101., 151., 127.,\n",
       "        237., 225.,  81., 151., 107.,  64., 138., 185., 265., 101., 137.,\n",
       "        143., 141.,  79., 292., 178.,  91., 116.,  86., 122.,  72., 129.,\n",
       "        142.,  90., 158.,  39., 196., 222., 277.,  99., 196., 202., 155.,\n",
       "         77., 191.,  70.,  73.,  49.,  65., 263., 248., 296., 214., 185.,\n",
       "         78.,  93., 252., 150.,  77., 208.,  77., 108., 160.,  53., 220.,\n",
       "        154., 259.,  90., 246., 124.,  67.,  72., 257., 262., 275., 177.,\n",
       "         71.,  47., 187., 125.,  78.,  51., 258., 215., 303., 243.,  91.,\n",
       "        150., 310., 153., 346.,  63.,  89.,  50.,  39., 103., 308., 116.,\n",
       "        145.,  74.,  45., 115., 264.,  87., 202., 127., 182., 241.,  66.,\n",
       "         94., 283.,  64., 102., 200., 265.,  94., 230., 181., 156., 233.,\n",
       "         60., 219.,  80.,  68., 332., 248.,  84., 200.,  55.,  85.,  89.,\n",
       "         31., 129.,  83., 275.,  65., 198., 236., 253., 124.,  44., 172.,\n",
       "        114., 142., 109., 180., 144., 163., 147.,  97., 220., 190., 109.,\n",
       "        191., 122., 230., 242., 248., 249., 192., 131., 237.,  78., 135.,\n",
       "        244., 199., 270., 164.,  72.,  96., 306.,  91., 214.,  95., 216.,\n",
       "        263., 178., 113., 200., 139., 139.,  88., 148.,  88., 243.,  71.,\n",
       "         77., 109., 272.,  60.,  54., 221.,  90., 311., 281., 182., 321.,\n",
       "         58., 262., 206., 233., 242., 123., 167.,  63., 197.,  71., 168.,\n",
       "        140., 217., 121., 235., 245.,  40.,  52., 104., 132.,  88.,  69.,\n",
       "        219.,  72., 201., 110.,  51., 277.,  63., 118.,  69., 273., 258.,\n",
       "         43., 198., 242., 232., 175.,  93., 168., 275., 293., 281.,  72.,\n",
       "        140., 189., 181., 209., 136., 261., 113., 131., 174., 257.,  55.,\n",
       "         84.,  42., 146., 212., 233.,  91., 111., 152., 120.,  67., 310.,\n",
       "         94., 183.,  66., 173.,  72.,  49.,  64.,  48., 178., 104., 132.,\n",
       "        220.,  57.]),\n",
       " 'frame': None,\n",
       " 'DESCR': '.. _diabetes_dataset:\\n\\nDiabetes dataset\\n----------------\\n\\nTen baseline variables, age, sex, body mass index, average blood\\npressure, and six blood serum measurements were obtained for each of n =\\n442 diabetes patients, as well as the response of interest, a\\nquantitative measure of disease progression one year after baseline.\\n\\n**Data Set Characteristics:**\\n\\n  :Number of Instances: 442\\n\\n  :Number of Attributes: First 10 columns are numeric predictive values\\n\\n  :Target: Column 11 is a quantitative measure of disease progression one year after baseline\\n\\n  :Attribute Information:\\n      - age     age in years\\n      - sex\\n      - bmi     body mass index\\n      - bp      average blood pressure\\n      - s1      tc, T-Cells (a type of white blood cells)\\n      - s2      ldl, low-density lipoproteins\\n      - s3      hdl, high-density lipoproteins\\n      - s4      tch, thyroid stimulating hormone\\n      - s5      ltg, lamotrigine\\n      - s6      glu, blood sugar level\\n\\nNote: Each of these 10 feature variables have been mean centered and scaled by the standard deviation times `n_samples` (i.e. the sum of squares of each column totals 1).\\n\\nSource URL:\\nhttps://www4.stat.ncsu.edu/~boos/var.select/diabetes.html\\n\\nFor more information see:\\nBradley Efron, Trevor Hastie, Iain Johnstone and Robert Tibshirani (2004) \"Least Angle Regression,\" Annals of Statistics (with discussion), 407-499.\\n(https://web.stanford.edu/~hastie/Papers/LARS/LeastAngle_2002.pdf)',\n",
       " 'feature_names': ['age',\n",
       "  'sex',\n",
       "  'bmi',\n",
       "  'bp',\n",
       "  's1',\n",
       "  's2',\n",
       "  's3',\n",
       "  's4',\n",
       "  's5',\n",
       "  's6'],\n",
       " 'data_filename': 'C:\\\\Users\\\\Nour\\\\anaconda3\\\\lib\\\\site-packages\\\\sklearn\\\\datasets\\\\data\\\\diabetes_data.csv.gz',\n",
       " 'target_filename': 'C:\\\\Users\\\\Nour\\\\anaconda3\\\\lib\\\\site-packages\\\\sklearn\\\\datasets\\\\data\\\\diabetes_target.csv.gz'}"
      ]
     },
     "execution_count": 2,
     "metadata": {},
     "output_type": "execute_result"
    }
   ],
   "source": [
    "# insert code here\n",
    "\n",
    "diabetes = datasets.load_diabetes()\n",
    "diabetes"
   ]
  },
  {
   "cell_type": "markdown",
   "metadata": {
    "colab_type": "text",
    "id": "xR_yLpR01Kdr"
   },
   "source": [
    "### Prepare input data"
   ]
  },
  {
   "cell_type": "code",
   "execution_count": 7,
   "metadata": {
    "colab": {},
    "colab_type": "code",
    "id": "Sp2mf2bB1Kds"
   },
   "outputs": [],
   "source": [
    "# insert code here\n",
    "\n",
    "X = pd.DataFrame(diabetes.data, columns = diabetes.feature_names)\n",
    "y = diabetes.target\n"
   ]
  },
  {
   "cell_type": "markdown",
   "metadata": {
    "colab_type": "text",
    "id": "j1Vsh6cm1Kdv"
   },
   "source": [
    "### Split the data (training/test)"
   ]
  },
  {
   "cell_type": "code",
   "execution_count": 8,
   "metadata": {
    "colab": {},
    "colab_type": "code",
    "id": "O341llJz1Kdw"
   },
   "outputs": [],
   "source": [
    "# insert code here\n",
    "\n",
    "X_train, X_test, y_train, y_test = train_test_split(X, y, test_size = 0.3, random_state = 2)\n",
    "n_cols = X_train.shape[1]"
   ]
  },
  {
   "cell_type": "markdown",
   "metadata": {
    "colab_type": "text",
    "id": "o4dJViJD1Kd0"
   },
   "source": [
    "### Create the model's architecture"
   ]
  },
  {
   "cell_type": "code",
   "execution_count": 9,
   "metadata": {
    "colab": {},
    "colab_type": "code",
    "id": "Tkgf_BLl1Kd1"
   },
   "outputs": [],
   "source": [
    "# insert code here\n",
    "model = Sequential()"
   ]
  },
  {
   "cell_type": "code",
   "execution_count": 10,
   "metadata": {},
   "outputs": [
    {
     "name": "stdout",
     "output_type": "stream",
     "text": [
      "Model: \"sequential\"\n",
      "_________________________________________________________________\n",
      "Layer (type)                 Output Shape              Param #   \n",
      "=================================================================\n",
      "dense (Dense)                (None, 30)                330       \n",
      "_________________________________________________________________\n",
      "dense_1 (Dense)              (None, 20)                620       \n",
      "_________________________________________________________________\n",
      "dense_2 (Dense)              (None, 2)                 42        \n",
      "=================================================================\n",
      "Total params: 992\n",
      "Trainable params: 992\n",
      "Non-trainable params: 0\n",
      "_________________________________________________________________\n",
      "None\n"
     ]
    }
   ],
   "source": [
    "\n",
    "model.add(Dense(30, activation = 'linear', input_shape = (n_cols, )))\n",
    "model.add(Dense(20, activation = 'linear'))\n",
    "\n",
    "# Add the output layer\n",
    "model.add(Dense(2, activation = 'linear'))\n",
    "\n",
    "print(model.summary())\n",
    "\n",
    "\n"
   ]
  },
  {
   "cell_type": "markdown",
   "metadata": {
    "colab_type": "text",
    "id": "5hQTS42V1Kd4"
   },
   "source": [
    "### Compile the model"
   ]
  },
  {
   "cell_type": "code",
   "execution_count": 12,
   "metadata": {
    "colab": {},
    "colab_type": "code",
    "id": "BvLsoanF1Kd5"
   },
   "outputs": [],
   "source": [
    "# insert code here\n",
    "model.compile(\n",
    "    optimizer = 'adam',\n",
    "    loss = 'mean_squared_error',\n",
    "metrics=['mse', 'mae', 'mean_absolute_percentage_error'])"
   ]
  },
  {
   "cell_type": "markdown",
   "metadata": {
    "colab_type": "text",
    "id": "6KPQbnEj1Kd7"
   },
   "source": [
    "### Fit the training data"
   ]
  },
  {
   "cell_type": "code",
   "execution_count": 13,
   "metadata": {
    "colab": {},
    "colab_type": "code",
    "id": "-oiuHjEj1Kd8"
   },
   "outputs": [
    {
     "name": "stdout",
     "output_type": "stream",
     "text": [
      "Epoch 1/100\n",
      "8/8 [==============================] - 34s 150ms/step - loss: 29363.9058 - mse: 29363.9058 - mae: 152.7874 - mean_absolute_percentage_error: 99.9922 - val_loss: 29757.4961 - val_mse: 29757.4961 - val_mae: 153.3178 - val_mean_absolute_percentage_error: 99.9481\n",
      "Epoch 2/100\n",
      "8/8 [==============================] - 0s 5ms/step - loss: 29913.7984 - mse: 29913.7984 - mae: 153.2572 - mean_absolute_percentage_error: 99.9314 - val_loss: 29730.8047 - val_mse: 29730.8047 - val_mae: 153.2352 - val_mean_absolute_percentage_error: 99.8769\n",
      "Epoch 3/100\n",
      "8/8 [==============================] - 0s 6ms/step - loss: 26684.0477 - mse: 26684.0477 - mae: 144.3111 - mean_absolute_percentage_error: 99.8547 - val_loss: 29696.7422 - val_mse: 29696.7422 - val_mae: 153.1292 - val_mean_absolute_percentage_error: 99.7852\n",
      "Epoch 4/100\n",
      "8/8 [==============================] - 0s 7ms/step - loss: 29445.2587 - mse: 29445.2587 - mae: 153.4841 - mean_absolute_percentage_error: 99.7628 - val_loss: 29651.7383 - val_mse: 29651.7383 - val_mae: 152.9893 - val_mean_absolute_percentage_error: 99.6646\n",
      "Epoch 5/100\n",
      "8/8 [==============================] - 0s 5ms/step - loss: 26397.0729 - mse: 26397.0729 - mae: 143.8040 - mean_absolute_percentage_error: 99.6237 - val_loss: 29593.7168 - val_mse: 29593.7168 - val_mae: 152.8080 - val_mean_absolute_percentage_error: 99.5071\n",
      "Epoch 6/100\n",
      "8/8 [==============================] - 0s 7ms/step - loss: 29581.3611 - mse: 29581.3611 - mae: 153.1983 - mean_absolute_percentage_error: 99.4782 - val_loss: 29518.2344 - val_mse: 29518.2344 - val_mae: 152.5721 - val_mean_absolute_percentage_error: 99.3030\n",
      "Epoch 7/100\n",
      "8/8 [==============================] - 0s 6ms/step - loss: 26758.3392 - mse: 26758.3392 - mae: 144.4926 - mean_absolute_percentage_error: 99.2252 - val_loss: 29422.2578 - val_mse: 29422.2578 - val_mae: 152.2714 - val_mean_absolute_percentage_error: 99.0422\n",
      "Epoch 8/100\n",
      "8/8 [==============================] - 0s 6ms/step - loss: 27752.7585 - mse: 27752.7585 - mae: 147.7637 - mean_absolute_percentage_error: 98.9581 - val_loss: 29300.1035 - val_mse: 29300.1035 - val_mae: 151.8892 - val_mean_absolute_percentage_error: 98.7126\n",
      "Epoch 9/100\n",
      "8/8 [==============================] - 0s 10ms/step - loss: 30131.5671 - mse: 30131.5671 - mae: 154.9772 - mean_absolute_percentage_error: 98.6839 - val_loss: 29149.1191 - val_mse: 29149.1191 - val_mae: 151.4145 - val_mean_absolute_percentage_error: 98.3021\n",
      "Epoch 10/100\n",
      "8/8 [==============================] - 0s 6ms/step - loss: 27760.7480 - mse: 27760.7480 - mae: 146.6157 - mean_absolute_percentage_error: 98.1368 - val_loss: 28966.5820 - val_mse: 28966.5820 - val_mae: 150.8390 - val_mean_absolute_percentage_error: 97.8047\n",
      "Epoch 11/100\n",
      "8/8 [==============================] - 0s 6ms/step - loss: 25665.9151 - mse: 25665.9151 - mae: 142.1089 - mean_absolute_percentage_error: 97.6532 - val_loss: 28748.0195 - val_mse: 28748.0195 - val_mae: 150.1441 - val_mean_absolute_percentage_error: 97.2016\n",
      "Epoch 12/100\n",
      "8/8 [==============================] - 0s 6ms/step - loss: 26979.8678 - mse: 26979.8678 - mae: 145.7865 - mean_absolute_percentage_error: 97.0922 - val_loss: 28484.5547 - val_mse: 28484.5566 - val_mae: 149.3057 - val_mean_absolute_percentage_error: 96.4778\n",
      "Epoch 13/100\n",
      "8/8 [==============================] - 0s 7ms/step - loss: 25788.7524 - mse: 25788.7524 - mae: 142.2253 - mean_absolute_percentage_error: 96.2719 - val_loss: 28177.8066 - val_mse: 28177.8066 - val_mae: 148.3217 - val_mean_absolute_percentage_error: 95.6261\n",
      "Epoch 14/100\n",
      "8/8 [==============================] - 0s 7ms/step - loss: 25909.2131 - mse: 25909.2131 - mae: 141.4022 - mean_absolute_percentage_error: 95.3156 - val_loss: 27819.6172 - val_mse: 27819.6172 - val_mae: 147.1667 - val_mean_absolute_percentage_error: 94.6291\n",
      "Epoch 15/100\n",
      "8/8 [==============================] - 0s 7ms/step - loss: 26846.5280 - mse: 26846.5280 - mae: 144.1747 - mean_absolute_percentage_error: 94.3647 - val_loss: 27408.6055 - val_mse: 27408.6055 - val_mae: 145.8301 - val_mean_absolute_percentage_error: 93.4754\n",
      "Epoch 16/100\n",
      "8/8 [==============================] - 0s 8ms/step - loss: 24001.6432 - mse: 24001.6432 - mae: 137.9772 - mean_absolute_percentage_error: 93.3595 - val_loss: 26946.2695 - val_mse: 26946.2695 - val_mae: 144.3099 - val_mean_absolute_percentage_error: 92.1614\n",
      "Epoch 17/100\n",
      "8/8 [==============================] - 0s 7ms/step - loss: 24680.7817 - mse: 24680.7817 - mae: 137.9930 - mean_absolute_percentage_error: 91.8427 - val_loss: 26423.5527 - val_mse: 26423.5527 - val_mae: 142.5722 - val_mean_absolute_percentage_error: 90.6599\n",
      "Epoch 18/100\n",
      "8/8 [==============================] - 0s 6ms/step - loss: 24577.8214 - mse: 24577.8214 - mae: 137.3646 - mean_absolute_percentage_error: 90.2130 - val_loss: 25842.5059 - val_mse: 25842.5059 - val_mae: 140.6199 - val_mean_absolute_percentage_error: 88.9777\n",
      "Epoch 19/100\n",
      "8/8 [==============================] - 0s 6ms/step - loss: 24338.1421 - mse: 24338.1421 - mae: 135.8193 - mean_absolute_percentage_error: 88.5900 - val_loss: 25201.8555 - val_mse: 25201.8555 - val_mae: 138.4361 - val_mean_absolute_percentage_error: 87.0962\n",
      "Epoch 20/100\n",
      "8/8 [==============================] - 0s 6ms/step - loss: 22985.4271 - mse: 22985.4271 - mae: 131.6529 - mean_absolute_percentage_error: 86.4621 - val_loss: 24504.3223 - val_mse: 24504.3223 - val_mae: 136.0147 - val_mean_absolute_percentage_error: 85.0061\n",
      "Epoch 21/100\n",
      "8/8 [==============================] - 0s 7ms/step - loss: 23170.9536 - mse: 23170.9536 - mae: 133.9145 - mean_absolute_percentage_error: 84.9735 - val_loss: 23744.5645 - val_mse: 23744.5645 - val_mae: 133.3315 - val_mean_absolute_percentage_error: 82.6941\n",
      "Epoch 22/100\n",
      "8/8 [==============================] - 0s 6ms/step - loss: 20802.2242 - mse: 20802.2242 - mae: 124.5333 - mean_absolute_percentage_error: 82.0666 - val_loss: 22942.7969 - val_mse: 22942.7969 - val_mae: 130.4373 - val_mean_absolute_percentage_error: 80.1972\n",
      "Epoch 23/100\n",
      "8/8 [==============================] - 0s 7ms/step - loss: 21440.0254 - mse: 21440.0254 - mae: 127.2984 - mean_absolute_percentage_error: 80.2494 - val_loss: 22074.8906 - val_mse: 22074.8906 - val_mae: 127.2356 - val_mean_absolute_percentage_error: 77.4392\n",
      "Epoch 24/100\n",
      "8/8 [==============================] - 0s 6ms/step - loss: 21710.6988 - mse: 21710.6988 - mae: 127.6853 - mean_absolute_percentage_error: 77.8591 - val_loss: 21151.7500 - val_mse: 21151.7500 - val_mae: 123.7480 - val_mean_absolute_percentage_error: 74.4420\n",
      "Epoch 25/100\n",
      "8/8 [==============================] - 0s 7ms/step - loss: 20183.6693 - mse: 20183.6693 - mae: 121.1352 - mean_absolute_percentage_error: 74.2808 - val_loss: 20202.7715 - val_mse: 20202.7715 - val_mae: 120.0514 - val_mean_absolute_percentage_error: 71.2583\n",
      "Epoch 26/100\n",
      "8/8 [==============================] - 0s 6ms/step - loss: 19077.2912 - mse: 19077.2912 - mae: 117.0778 - mean_absolute_percentage_error: 71.3000 - val_loss: 19213.7148 - val_mse: 19213.7148 - val_mae: 116.0923 - val_mean_absolute_percentage_error: 67.8675\n",
      "Epoch 27/100\n",
      "8/8 [==============================] - 0s 6ms/step - loss: 18248.9436 - mse: 18248.9436 - mae: 113.0638 - mean_absolute_percentage_error: 67.7961 - val_loss: 18189.0332 - val_mse: 18189.0332 - val_mae: 111.9123 - val_mean_absolute_percentage_error: 64.3896\n",
      "Epoch 28/100\n",
      "8/8 [==============================] - 0s 5ms/step - loss: 17845.2433 - mse: 17845.2433 - mae: 109.5068 - mean_absolute_percentage_error: 63.9673 - val_loss: 17147.4023 - val_mse: 17147.4023 - val_mae: 107.5767 - val_mean_absolute_percentage_error: 60.8977\n",
      "Epoch 29/100\n",
      "8/8 [==============================] - 0s 5ms/step - loss: 15555.6400 - mse: 15555.6400 - mae: 101.6720 - mean_absolute_percentage_error: 60.9759 - val_loss: 16098.2578 - val_mse: 16098.2578 - val_mae: 103.2213 - val_mean_absolute_percentage_error: 57.6539\n",
      "Epoch 30/100\n",
      "8/8 [==============================] - 0s 7ms/step - loss: 13695.0876 - mse: 13695.0876 - mae: 94.0449 - mean_absolute_percentage_error: 56.9070 - val_loss: 15050.0674 - val_mse: 15050.0674 - val_mae: 98.8570 - val_mean_absolute_percentage_error: 54.6371\n",
      "Epoch 31/100\n"
     ]
    },
    {
     "name": "stdout",
     "output_type": "stream",
     "text": [
      "8/8 [==============================] - 0s 5ms/step - loss: 15948.2270 - mse: 15948.2270 - mae: 103.3845 - mean_absolute_percentage_error: 56.2418 - val_loss: 13989.2539 - val_mse: 13989.2539 - val_mae: 94.3678 - val_mean_absolute_percentage_error: 51.6960\n",
      "Epoch 32/100\n",
      "8/8 [==============================] - 0s 7ms/step - loss: 12966.9273 - mse: 12966.9273 - mae: 91.0131 - mean_absolute_percentage_error: 52.1223 - val_loss: 12983.2783 - val_mse: 12983.2793 - val_mae: 90.1990 - val_mean_absolute_percentage_error: 49.4252\n",
      "Epoch 33/100\n",
      "8/8 [==============================] - 0s 6ms/step - loss: 11923.1538 - mse: 11923.1538 - mae: 86.4963 - mean_absolute_percentage_error: 49.4622 - val_loss: 11993.9414 - val_mse: 11993.9414 - val_mae: 86.0458 - val_mean_absolute_percentage_error: 47.4064\n",
      "Epoch 34/100\n",
      "8/8 [==============================] - 0s 6ms/step - loss: 11324.4134 - mse: 11324.4134 - mae: 84.0526 - mean_absolute_percentage_error: 47.5386 - val_loss: 11027.5566 - val_mse: 11027.5566 - val_mae: 82.0428 - val_mean_absolute_percentage_error: 45.7759\n",
      "Epoch 35/100\n",
      "8/8 [==============================] - 0s 6ms/step - loss: 10106.8622 - mse: 10106.8622 - mae: 77.1831 - mean_absolute_percentage_error: 44.7597 - val_loss: 10140.4902 - val_mse: 10140.4902 - val_mae: 78.4642 - val_mean_absolute_percentage_error: 44.6705\n",
      "Epoch 36/100\n",
      "8/8 [==============================] - 0s 5ms/step - loss: 8977.9748 - mse: 8977.9748 - mae: 72.9813 - mean_absolute_percentage_error: 42.8563 - val_loss: 9302.6777 - val_mse: 9302.6777 - val_mae: 75.0779 - val_mean_absolute_percentage_error: 43.9023\n",
      "Epoch 37/100\n",
      "8/8 [==============================] - 0s 5ms/step - loss: 8721.4923 - mse: 8721.4923 - mae: 70.9929 - mean_absolute_percentage_error: 42.1666 - val_loss: 8536.9014 - val_mse: 8536.9014 - val_mae: 71.8889 - val_mean_absolute_percentage_error: 43.3129\n",
      "Epoch 38/100\n",
      "8/8 [==============================] - 0s 5ms/step - loss: 7978.4495 - mse: 7978.4495 - mae: 68.9281 - mean_absolute_percentage_error: 42.9120 - val_loss: 7844.1260 - val_mse: 7844.1260 - val_mae: 69.2059 - val_mean_absolute_percentage_error: 43.2684\n",
      "Epoch 39/100\n",
      "8/8 [==============================] - 0s 8ms/step - loss: 6912.8751 - mse: 6912.8751 - mae: 62.7743 - mean_absolute_percentage_error: 40.6705 - val_loss: 7228.6089 - val_mse: 7228.6089 - val_mae: 66.8996 - val_mean_absolute_percentage_error: 43.5366\n",
      "Epoch 40/100\n",
      "8/8 [==============================] - 0s 8ms/step - loss: 6056.5611 - mse: 6056.5611 - mae: 58.8777 - mean_absolute_percentage_error: 39.9715 - val_loss: 6690.7681 - val_mse: 6690.7681 - val_mae: 64.8430 - val_mean_absolute_percentage_error: 43.9750\n",
      "Epoch 41/100\n",
      "8/8 [==============================] - 0s 7ms/step - loss: 6382.8957 - mse: 6382.8957 - mae: 61.4478 - mean_absolute_percentage_error: 39.2143 - val_loss: 6207.4385 - val_mse: 6207.4385 - val_mae: 62.9571 - val_mean_absolute_percentage_error: 44.5697\n",
      "Epoch 42/100\n",
      "8/8 [==============================] - 0s 6ms/step - loss: 6326.4519 - mse: 6326.4519 - mae: 62.2485 - mean_absolute_percentage_error: 41.7333 - val_loss: 5798.9639 - val_mse: 5798.9639 - val_mae: 61.4668 - val_mean_absolute_percentage_error: 45.3562\n",
      "Epoch 43/100\n",
      "8/8 [==============================] - 0s 6ms/step - loss: 5058.3921 - mse: 5058.3921 - mae: 56.0456 - mean_absolute_percentage_error: 42.0362 - val_loss: 5471.0146 - val_mse: 5471.0146 - val_mae: 60.3113 - val_mean_absolute_percentage_error: 46.2022\n",
      "Epoch 44/100\n",
      "8/8 [==============================] - 0s 5ms/step - loss: 4537.2333 - mse: 4537.2333 - mae: 53.0830 - mean_absolute_percentage_error: 41.0142 - val_loss: 5208.0083 - val_mse: 5208.0083 - val_mae: 59.3704 - val_mean_absolute_percentage_error: 47.0676\n",
      "Epoch 45/100\n",
      "8/8 [==============================] - 0s 7ms/step - loss: 4770.9871 - mse: 4770.9871 - mae: 55.7739 - mean_absolute_percentage_error: 45.1273 - val_loss: 4980.9072 - val_mse: 4980.9072 - val_mae: 58.4311 - val_mean_absolute_percentage_error: 47.8386\n",
      "Epoch 46/100\n",
      "8/8 [==============================] - 0s 5ms/step - loss: 4647.8415 - mse: 4647.8415 - mae: 54.3212 - mean_absolute_percentage_error: 44.8675 - val_loss: 4791.1978 - val_mse: 4791.1978 - val_mae: 57.6159 - val_mean_absolute_percentage_error: 48.6050\n",
      "Epoch 47/100\n",
      "8/8 [==============================] - 0s 6ms/step - loss: 4363.2685 - mse: 4363.2685 - mae: 53.4284 - mean_absolute_percentage_error: 46.1530 - val_loss: 4639.5747 - val_mse: 4639.5747 - val_mae: 56.9414 - val_mean_absolute_percentage_error: 49.2809\n",
      "Epoch 48/100\n",
      "8/8 [==============================] - 0s 6ms/step - loss: 4045.6678 - mse: 4045.6678 - mae: 51.5282 - mean_absolute_percentage_error: 44.7342 - val_loss: 4519.5215 - val_mse: 4519.5215 - val_mae: 56.3916 - val_mean_absolute_percentage_error: 49.8984\n",
      "Epoch 49/100\n",
      "8/8 [==============================] - 0s 6ms/step - loss: 3903.7485 - mse: 3903.7485 - mae: 50.9798 - mean_absolute_percentage_error: 45.2873 - val_loss: 4422.3218 - val_mse: 4422.3218 - val_mae: 55.9511 - val_mean_absolute_percentage_error: 50.4673\n",
      "Epoch 50/100\n",
      "8/8 [==============================] - 0s 6ms/step - loss: 3873.7961 - mse: 3873.7961 - mae: 51.1652 - mean_absolute_percentage_error: 45.4429 - val_loss: 4347.1685 - val_mse: 4347.1685 - val_mae: 55.6160 - val_mean_absolute_percentage_error: 50.8929\n",
      "Epoch 51/100\n",
      "8/8 [==============================] - 0s 6ms/step - loss: 4186.7414 - mse: 4186.7414 - mae: 52.9240 - mean_absolute_percentage_error: 46.6913 - val_loss: 4279.9624 - val_mse: 4279.9624 - val_mae: 55.2777 - val_mean_absolute_percentage_error: 51.2741\n",
      "Epoch 52/100\n",
      "8/8 [==============================] - 0s 6ms/step - loss: 3984.0643 - mse: 3984.0643 - mae: 52.9473 - mean_absolute_percentage_error: 48.8905 - val_loss: 4224.7026 - val_mse: 4224.7026 - val_mae: 54.9733 - val_mean_absolute_percentage_error: 51.5003\n",
      "Epoch 53/100\n",
      "8/8 [==============================] - 0s 5ms/step - loss: 4169.7933 - mse: 4169.7933 - mae: 54.1472 - mean_absolute_percentage_error: 48.2904 - val_loss: 4175.1162 - val_mse: 4175.1162 - val_mae: 54.6760 - val_mean_absolute_percentage_error: 51.7334\n",
      "Epoch 54/100\n",
      "8/8 [==============================] - 0s 6ms/step - loss: 3890.8721 - mse: 3890.8721 - mae: 52.2610 - mean_absolute_percentage_error: 49.7427 - val_loss: 4134.5156 - val_mse: 4134.5156 - val_mae: 54.4381 - val_mean_absolute_percentage_error: 51.8935\n",
      "Epoch 55/100\n",
      "8/8 [==============================] - 0s 6ms/step - loss: 3885.5654 - mse: 3885.5654 - mae: 52.6989 - mean_absolute_percentage_error: 50.6385 - val_loss: 4099.7964 - val_mse: 4099.7964 - val_mae: 54.2093 - val_mean_absolute_percentage_error: 51.8794\n",
      "Epoch 56/100\n",
      "8/8 [==============================] - 0s 5ms/step - loss: 3586.8304 - mse: 3586.8304 - mae: 49.8516 - mean_absolute_percentage_error: 47.1641 - val_loss: 4067.7971 - val_mse: 4067.7971 - val_mae: 53.9870 - val_mean_absolute_percentage_error: 51.8415\n",
      "Epoch 57/100\n",
      "8/8 [==============================] - 0s 6ms/step - loss: 3898.2010 - mse: 3898.2010 - mae: 52.7959 - mean_absolute_percentage_error: 48.4160 - val_loss: 4037.3748 - val_mse: 4037.3748 - val_mae: 53.7717 - val_mean_absolute_percentage_error: 51.8208\n",
      "Epoch 58/100\n",
      "8/8 [==============================] - 0s 5ms/step - loss: 3875.5511 - mse: 3875.5511 - mae: 52.5052 - mean_absolute_percentage_error: 48.9279 - val_loss: 4011.0554 - val_mse: 4011.0554 - val_mae: 53.5913 - val_mean_absolute_percentage_error: 51.7765\n",
      "Epoch 59/100\n",
      "8/8 [==============================] - ETA: 0s - loss: 2404.4021 - mse: 2404.4021 - mae: 41.3160 - mean_absolute_percentage_error: 42.02 - 0s 6ms/step - loss: 3217.5434 - mse: 3217.5434 - mae: 47.2209 - mean_absolute_percentage_error: 45.3564 - val_loss: 3986.6025 - val_mse: 3986.6025 - val_mae: 53.4176 - val_mean_absolute_percentage_error: 51.6486\n",
      "Epoch 60/100\n",
      "8/8 [==============================] - 0s 5ms/step - loss: 3278.4085 - mse: 3278.4085 - mae: 48.2231 - mean_absolute_percentage_error: 47.7564 - val_loss: 3962.5923 - val_mse: 3962.5923 - val_mae: 53.2549 - val_mean_absolute_percentage_error: 51.5658\n",
      "Epoch 61/100\n",
      "8/8 [==============================] - 0s 5ms/step - loss: 3253.7289 - mse: 3253.7289 - mae: 47.3722 - mean_absolute_percentage_error: 46.6105 - val_loss: 3939.9060 - val_mse: 3939.9060 - val_mae: 53.0968 - val_mean_absolute_percentage_error: 51.5668\n"
     ]
    },
    {
     "name": "stdout",
     "output_type": "stream",
     "text": [
      "Epoch 62/100\n",
      "8/8 [==============================] - 0s 5ms/step - loss: 3395.0455 - mse: 3395.0455 - mae: 48.6137 - mean_absolute_percentage_error: 50.4336 - val_loss: 3919.2661 - val_mse: 3919.2661 - val_mae: 52.9431 - val_mean_absolute_percentage_error: 51.4341\n",
      "Epoch 63/100\n",
      "8/8 [==============================] - 0s 6ms/step - loss: 3561.1624 - mse: 3561.1624 - mae: 50.6837 - mean_absolute_percentage_error: 47.8008 - val_loss: 3900.2180 - val_mse: 3900.2180 - val_mae: 52.7966 - val_mean_absolute_percentage_error: 51.4383\n",
      "Epoch 64/100\n",
      "8/8 [==============================] - 0s 6ms/step - loss: 3395.7508 - mse: 3395.7508 - mae: 49.7005 - mean_absolute_percentage_error: 48.7201 - val_loss: 3882.6763 - val_mse: 3882.6763 - val_mae: 52.6548 - val_mean_absolute_percentage_error: 51.3710\n",
      "Epoch 65/100\n",
      "8/8 [==============================] - 0s 6ms/step - loss: 3485.4848 - mse: 3485.4848 - mae: 49.3827 - mean_absolute_percentage_error: 45.6353 - val_loss: 3866.6201 - val_mse: 3866.6201 - val_mae: 52.5316 - val_mean_absolute_percentage_error: 51.3541\n",
      "Epoch 66/100\n",
      "8/8 [==============================] - 0s 6ms/step - loss: 3682.3982 - mse: 3682.3982 - mae: 51.3782 - mean_absolute_percentage_error: 48.6786 - val_loss: 3850.7244 - val_mse: 3850.7244 - val_mae: 52.4085 - val_mean_absolute_percentage_error: 51.2130\n",
      "Epoch 67/100\n",
      "8/8 [==============================] - 0s 6ms/step - loss: 3815.5409 - mse: 3815.5409 - mae: 51.8473 - mean_absolute_percentage_error: 49.8465 - val_loss: 3835.2922 - val_mse: 3835.2922 - val_mae: 52.2851 - val_mean_absolute_percentage_error: 51.1000\n",
      "Epoch 68/100\n",
      "8/8 [==============================] - 0s 5ms/step - loss: 3645.2833 - mse: 3645.2833 - mae: 50.7315 - mean_absolute_percentage_error: 51.6133 - val_loss: 3821.3044 - val_mse: 3821.3044 - val_mae: 52.1672 - val_mean_absolute_percentage_error: 50.8682\n",
      "Epoch 69/100\n",
      "8/8 [==============================] - 0s 5ms/step - loss: 3117.2162 - mse: 3117.2162 - mae: 46.4402 - mean_absolute_percentage_error: 45.2508 - val_loss: 3807.7107 - val_mse: 3807.7107 - val_mae: 52.0530 - val_mean_absolute_percentage_error: 50.7729\n",
      "Epoch 70/100\n",
      "8/8 [==============================] - 0s 5ms/step - loss: 3388.2812 - mse: 3388.2812 - mae: 48.5210 - mean_absolute_percentage_error: 45.1448 - val_loss: 3795.1174 - val_mse: 3795.1174 - val_mae: 51.9599 - val_mean_absolute_percentage_error: 50.6185\n",
      "Epoch 71/100\n",
      "8/8 [==============================] - 0s 5ms/step - loss: 3266.5642 - mse: 3266.5642 - mae: 48.1815 - mean_absolute_percentage_error: 44.9376 - val_loss: 3783.4290 - val_mse: 3783.4290 - val_mae: 51.8829 - val_mean_absolute_percentage_error: 50.5075\n",
      "Epoch 72/100\n",
      "8/8 [==============================] - 0s 5ms/step - loss: 3574.4002 - mse: 3574.4002 - mae: 50.7777 - mean_absolute_percentage_error: 52.2915 - val_loss: 3771.7356 - val_mse: 3771.7356 - val_mae: 51.8027 - val_mean_absolute_percentage_error: 50.3818\n",
      "Epoch 73/100\n",
      "8/8 [==============================] - 0s 5ms/step - loss: 3056.3966 - mse: 3056.3966 - mae: 45.6285 - mean_absolute_percentage_error: 42.8167 - val_loss: 3760.7925 - val_mse: 3760.7925 - val_mae: 51.7254 - val_mean_absolute_percentage_error: 50.3342\n",
      "Epoch 74/100\n",
      "8/8 [==============================] - 0s 6ms/step - loss: 3300.2986 - mse: 3300.2986 - mae: 48.2999 - mean_absolute_percentage_error: 46.1947 - val_loss: 3750.4546 - val_mse: 3750.4546 - val_mae: 51.6498 - val_mean_absolute_percentage_error: 50.2206\n",
      "Epoch 75/100\n",
      "8/8 [==============================] - 0s 5ms/step - loss: 3345.3573 - mse: 3345.3573 - mae: 48.0474 - mean_absolute_percentage_error: 46.8854 - val_loss: 3740.7817 - val_mse: 3740.7817 - val_mae: 51.5775 - val_mean_absolute_percentage_error: 50.1300\n",
      "Epoch 76/100\n",
      "8/8 [==============================] - 0s 17ms/step - loss: 3454.6619 - mse: 3454.6619 - mae: 48.8135 - mean_absolute_percentage_error: 47.5873 - val_loss: 3730.9365 - val_mse: 3730.9365 - val_mae: 51.5009 - val_mean_absolute_percentage_error: 50.0086\n",
      "Epoch 77/100\n",
      "8/8 [==============================] - 0s 6ms/step - loss: 3380.2154 - mse: 3380.2154 - mae: 48.5683 - mean_absolute_percentage_error: 46.0376 - val_loss: 3722.9597 - val_mse: 3722.9597 - val_mae: 51.4323 - val_mean_absolute_percentage_error: 49.9921\n",
      "Epoch 78/100\n",
      "8/8 [==============================] - 0s 5ms/step - loss: 3154.6277 - mse: 3154.6277 - mae: 45.9305 - mean_absolute_percentage_error: 41.4618 - val_loss: 3714.4124 - val_mse: 3714.4124 - val_mae: 51.3627 - val_mean_absolute_percentage_error: 49.9126\n",
      "Epoch 79/100\n",
      "8/8 [==============================] - 0s 5ms/step - loss: 3086.8942 - mse: 3086.8942 - mae: 45.6018 - mean_absolute_percentage_error: 41.9137 - val_loss: 3706.2476 - val_mse: 3706.2476 - val_mae: 51.2961 - val_mean_absolute_percentage_error: 49.7118\n",
      "Epoch 80/100\n",
      "8/8 [==============================] - 0s 6ms/step - loss: 3256.7944 - mse: 3256.7944 - mae: 47.1248 - mean_absolute_percentage_error: 49.1545 - val_loss: 3697.7722 - val_mse: 3697.7722 - val_mae: 51.2221 - val_mean_absolute_percentage_error: 49.5545\n",
      "Epoch 81/100\n",
      "8/8 [==============================] - 0s 6ms/step - loss: 2919.5616 - mse: 2919.5616 - mae: 44.7953 - mean_absolute_percentage_error: 41.3171 - val_loss: 3690.0342 - val_mse: 3690.0342 - val_mae: 51.1520 - val_mean_absolute_percentage_error: 49.5320\n",
      "Epoch 82/100\n",
      "8/8 [==============================] - 0s 6ms/step - loss: 2983.8946 - mse: 2983.8946 - mae: 45.2800 - mean_absolute_percentage_error: 41.6137 - val_loss: 3682.5630 - val_mse: 3682.5630 - val_mae: 51.0863 - val_mean_absolute_percentage_error: 49.3566\n",
      "Epoch 83/100\n",
      "8/8 [==============================] - 0s 6ms/step - loss: 3040.6961 - mse: 3040.6961 - mae: 45.3283 - mean_absolute_percentage_error: 43.8602 - val_loss: 3674.7385 - val_mse: 3674.7385 - val_mae: 51.0126 - val_mean_absolute_percentage_error: 49.2736\n",
      "Epoch 84/100\n",
      "8/8 [==============================] - 0s 5ms/step - loss: 3187.7686 - mse: 3187.7686 - mae: 47.4893 - mean_absolute_percentage_error: 45.1818 - val_loss: 3667.6985 - val_mse: 3667.6985 - val_mae: 50.9486 - val_mean_absolute_percentage_error: 49.0807\n",
      "Epoch 85/100\n",
      "8/8 [==============================] - 0s 5ms/step - loss: 3155.2845 - mse: 3155.2845 - mae: 46.7726 - mean_absolute_percentage_error: 39.8400 - val_loss: 3661.4541 - val_mse: 3661.4541 - val_mae: 50.8818 - val_mean_absolute_percentage_error: 49.1194\n",
      "Epoch 86/100\n",
      "8/8 [==============================] - 0s 5ms/step - loss: 3281.7768 - mse: 3281.7768 - mae: 47.7711 - mean_absolute_percentage_error: 49.1969 - val_loss: 3654.6069 - val_mse: 3654.6069 - val_mae: 50.8122 - val_mean_absolute_percentage_error: 49.0010\n",
      "Epoch 87/100\n",
      "8/8 [==============================] - 0s 6ms/step - loss: 3087.9203 - mse: 3087.9203 - mae: 46.2166 - mean_absolute_percentage_error: 42.9670 - val_loss: 3648.8357 - val_mse: 3648.8357 - val_mae: 50.7523 - val_mean_absolute_percentage_error: 48.9027\n",
      "Epoch 88/100\n",
      "8/8 [==============================] - 0s 6ms/step - loss: 2938.0329 - mse: 2938.0329 - mae: 45.1190 - mean_absolute_percentage_error: 42.7796 - val_loss: 3643.3745 - val_mse: 3643.3745 - val_mae: 50.6947 - val_mean_absolute_percentage_error: 48.8232\n",
      "Epoch 89/100\n",
      "8/8 [==============================] - 0s 5ms/step - loss: 3178.8454 - mse: 3178.8454 - mae: 46.7324 - mean_absolute_percentage_error: 44.7150 - val_loss: 3637.8364 - val_mse: 3637.8364 - val_mae: 50.6311 - val_mean_absolute_percentage_error: 48.8078\n",
      "Epoch 90/100\n",
      "8/8 [==============================] - 0s 5ms/step - loss: 3194.4937 - mse: 3194.4937 - mae: 47.3647 - mean_absolute_percentage_error: 41.1777 - val_loss: 3632.9539 - val_mse: 3632.9539 - val_mae: 50.5697 - val_mean_absolute_percentage_error: 48.8375\n",
      "Epoch 91/100\n",
      "8/8 [==============================] - 0s 5ms/step - loss: 3353.8241 - mse: 3353.8241 - mae: 47.8964 - mean_absolute_percentage_error: 45.9404 - val_loss: 3626.3992 - val_mse: 3626.3992 - val_mae: 50.5128 - val_mean_absolute_percentage_error: 48.5342\n",
      "Epoch 92/100\n",
      "8/8 [==============================] - 0s 6ms/step - loss: 2798.1355 - mse: 2798.1355 - mae: 42.7597 - mean_absolute_percentage_error: 39.2695 - val_loss: 3621.0945 - val_mse: 3621.0945 - val_mae: 50.4510 - val_mean_absolute_percentage_error: 48.4543\n",
      "Epoch 93/100\n"
     ]
    },
    {
     "name": "stdout",
     "output_type": "stream",
     "text": [
      "8/8 [==============================] - 0s 6ms/step - loss: 3028.6722 - mse: 3028.6722 - mae: 45.9109 - mean_absolute_percentage_error: 44.0940 - val_loss: 3615.3855 - val_mse: 3615.3855 - val_mae: 50.3873 - val_mean_absolute_percentage_error: 48.3444\n",
      "Epoch 94/100\n",
      "8/8 [==============================] - 0s 5ms/step - loss: 3142.4463 - mse: 3142.4463 - mae: 46.3736 - mean_absolute_percentage_error: 46.3172 - val_loss: 3610.5464 - val_mse: 3610.5464 - val_mae: 50.3284 - val_mean_absolute_percentage_error: 48.2557\n",
      "Epoch 95/100\n",
      "8/8 [==============================] - 0s 5ms/step - loss: 2960.5610 - mse: 2960.5610 - mae: 45.0641 - mean_absolute_percentage_error: 44.8040 - val_loss: 3605.2708 - val_mse: 3605.2708 - val_mae: 50.2609 - val_mean_absolute_percentage_error: 48.1926\n",
      "Epoch 96/100\n",
      "8/8 [==============================] - 0s 5ms/step - loss: 3473.5384 - mse: 3473.5384 - mae: 49.4151 - mean_absolute_percentage_error: 48.8216 - val_loss: 3601.4980 - val_mse: 3601.4980 - val_mae: 50.2070 - val_mean_absolute_percentage_error: 48.1980\n",
      "Epoch 97/100\n",
      "8/8 [==============================] - 0s 5ms/step - loss: 3149.4380 - mse: 3149.4380 - mae: 46.2452 - mean_absolute_percentage_error: 41.8932 - val_loss: 3597.7246 - val_mse: 3597.7246 - val_mae: 50.1514 - val_mean_absolute_percentage_error: 48.2250\n",
      "Epoch 98/100\n",
      "8/8 [==============================] - 0s 6ms/step - loss: 3142.6517 - mse: 3142.6517 - mae: 46.0116 - mean_absolute_percentage_error: 42.1605 - val_loss: 3593.6653 - val_mse: 3593.6653 - val_mae: 50.0966 - val_mean_absolute_percentage_error: 48.1700\n",
      "Epoch 99/100\n",
      "8/8 [==============================] - 0s 6ms/step - loss: 3106.2112 - mse: 3106.2112 - mae: 46.5297 - mean_absolute_percentage_error: 43.5530 - val_loss: 3588.7605 - val_mse: 3588.7605 - val_mae: 50.0392 - val_mean_absolute_percentage_error: 48.0304\n",
      "Epoch 100/100\n",
      "8/8 [==============================] - 0s 6ms/step - loss: 3471.9053 - mse: 3471.9053 - mae: 49.0827 - mean_absolute_percentage_error: 44.5372 - val_loss: 3584.5754 - val_mse: 3584.5754 - val_mae: 49.9867 - val_mean_absolute_percentage_error: 47.9532\n",
      "Wall time: 40.1 s\n"
     ]
    }
   ],
   "source": [
    "%%time\n",
    "# insert code here\n",
    "\n",
    "history = model.fit(X_train, y_train, epochs=100, validation_split=0.2)"
   ]
  },
  {
   "cell_type": "markdown",
   "metadata": {
    "colab_type": "text",
    "id": "CR-kCu3c1Kd-"
   },
   "source": [
    "### Create predictions"
   ]
  },
  {
   "cell_type": "code",
   "execution_count": 14,
   "metadata": {
    "colab": {},
    "colab_type": "code",
    "id": "wkywKqPg1Kd-"
   },
   "outputs": [
    {
     "data": {
      "text/plain": [
       "array([[154.21786 , 155.22133 ],\n",
       "       [180.17183 , 181.40326 ],\n",
       "       [145.44485 , 146.37212 ],\n",
       "       [112.054825, 112.79742 ],\n",
       "       [237.63083 , 239.11546 ],\n",
       "       [235.28223 , 236.75247 ],\n",
       "       [109.1776  , 109.88687 ],\n",
       "       [121.052475, 121.84236 ],\n",
       "       [ 93.43901 ,  94.04156 ],\n",
       "       [183.1455  , 184.34703 ],\n",
       "       [159.9603  , 161.01178 ],\n",
       "       [180.71056 , 181.8301  ],\n",
       "       [189.72232 , 190.92874 ],\n",
       "       [158.42508 , 159.43782 ],\n",
       "       [243.81145 , 245.35439 ],\n",
       "       [ 89.34152 ,  89.946266],\n",
       "       [184.21567 , 185.4164  ],\n",
       "       [143.89502 , 144.82585 ],\n",
       "       [141.47824 , 142.39452 ],\n",
       "       [146.13135 , 147.06499 ],\n",
       "       [129.6209  , 130.50902 ],\n",
       "       [187.39426 , 188.65002 ],\n",
       "       [178.22852 , 179.32808 ],\n",
       "       [177.1907  , 178.32951 ],\n",
       "       [127.68561 , 128.50102 ],\n",
       "       [225.87506 , 227.2836  ],\n",
       "       [190.93393 , 192.18166 ],\n",
       "       [126.2467  , 127.098305],\n",
       "       [ 70.51163 ,  71.007675],\n",
       "       [238.39563 , 239.9312  ],\n",
       "       [237.0658  , 238.55971 ],\n",
       "       [128.8062  , 129.6262  ],\n",
       "       [ 82.63706 ,  83.22733 ],\n",
       "       [115.32524 , 116.08332 ],\n",
       "       [198.61615 , 199.84654 ],\n",
       "       [173.66353 , 174.76707 ],\n",
       "       [167.69261 , 168.7726  ],\n",
       "       [199.41452 , 200.65297 ],\n",
       "       [119.67848 , 120.46667 ],\n",
       "       [240.309   , 241.76314 ],\n",
       "       [130.148   , 131.04005 ],\n",
       "       [130.13173 , 130.96674 ],\n",
       "       [182.12784 , 183.31851 ],\n",
       "       [190.46576 , 191.64821 ],\n",
       "       [171.17844 , 172.25536 ],\n",
       "       [150.16377 , 151.13588 ],\n",
       "       [176.91727 , 178.05696 ],\n",
       "       [276.3995  , 278.03745 ],\n",
       "       [125.820816, 126.62013 ],\n",
       "       [196.03537 , 197.2549  ],\n",
       "       [226.7218  , 228.1669  ],\n",
       "       [130.16289 , 131.07907 ],\n",
       "       [147.30069 , 148.2766  ],\n",
       "       [165.73425 , 166.75038 ],\n",
       "       [188.84914 , 190.04468 ],\n",
       "       [124.3499  , 125.16917 ],\n",
       "       [168.14572 , 169.2166  ],\n",
       "       [ 91.051476,  91.66657 ],\n",
       "       [163.31601 , 164.37796 ],\n",
       "       [143.13727 , 144.10277 ],\n",
       "       [167.49377 , 168.5395  ],\n",
       "       [175.04037 , 176.17934 ],\n",
       "       [114.65672 , 115.42559 ],\n",
       "       [201.4992  , 202.80641 ],\n",
       "       [166.3778  , 167.41127 ],\n",
       "       [159.38095 , 160.42766 ],\n",
       "       [151.22284 , 152.17589 ],\n",
       "       [197.84644 , 199.04439 ],\n",
       "       [131.18462 , 132.0204  ],\n",
       "       [149.72336 , 150.68144 ],\n",
       "       [195.92877 , 197.21498 ],\n",
       "       [185.55093 , 186.77841 ],\n",
       "       [127.12546 , 127.93966 ],\n",
       "       [152.09515 , 153.07419 ],\n",
       "       [144.202   , 145.104   ],\n",
       "       [118.936325, 119.73992 ],\n",
       "       [ 92.92167 ,  93.581474],\n",
       "       [ 89.94466 ,  90.56629 ],\n",
       "       [173.81761 , 174.91194 ],\n",
       "       [ 91.53841 ,  92.179184],\n",
       "       [108.12428 , 108.88151 ],\n",
       "       [124.86327 , 125.63706 ],\n",
       "       [162.1899  , 163.26622 ],\n",
       "       [250.76602 , 252.3586  ],\n",
       "       [202.88007 , 204.15324 ],\n",
       "       [138.2014  , 139.1667  ],\n",
       "       [245.03201 , 246.58922 ],\n",
       "       [184.47281 , 185.6795  ],\n",
       "       [118.92609 , 119.708496],\n",
       "       [103.4251  , 104.10053 ],\n",
       "       [137.8827  , 138.78255 ],\n",
       "       [ 90.20723 ,  90.81821 ],\n",
       "       [156.70657 , 157.74854 ],\n",
       "       [ 73.32847 ,  73.806435],\n",
       "       [178.3258  , 179.44286 ],\n",
       "       [221.14359 , 222.61012 ],\n",
       "       [162.87769 , 163.92195 ],\n",
       "       [189.78311 , 191.00334 ],\n",
       "       [140.18742 , 141.15854 ],\n",
       "       [191.733   , 192.94536 ],\n",
       "       [134.44629 , 135.28535 ],\n",
       "       [168.2952  , 169.36284 ],\n",
       "       [ 98.52507 ,  99.19616 ],\n",
       "       [155.48143 , 156.51575 ],\n",
       "       [180.60822 , 181.76683 ],\n",
       "       [193.97258 , 195.19397 ],\n",
       "       [140.30405 , 141.22339 ],\n",
       "       [141.87312 , 142.77324 ],\n",
       "       [176.09396 , 177.22032 ],\n",
       "       [180.33833 , 181.40988 ],\n",
       "       [208.25452 , 209.56993 ],\n",
       "       [173.04639 , 174.11147 ],\n",
       "       [206.64697 , 207.9866  ],\n",
       "       [162.32422 , 163.3843  ],\n",
       "       [ 87.582275,  88.19669 ],\n",
       "       [119.76524 , 120.54028 ],\n",
       "       [ 81.55736 ,  82.10949 ],\n",
       "       [157.92902 , 158.97499 ],\n",
       "       [168.55313 , 169.5883  ],\n",
       "       [ 91.99359 ,  92.601944],\n",
       "       [204.45486 , 205.7451  ],\n",
       "       [209.94112 , 211.33257 ],\n",
       "       [185.72272 , 186.86215 ],\n",
       "       [198.52966 , 199.83913 ],\n",
       "       [224.8334  , 226.30095 ],\n",
       "       [199.77664 , 201.08095 ],\n",
       "       [186.97276 , 188.15755 ],\n",
       "       [ 82.00977 ,  82.55576 ],\n",
       "       [180.51787 , 181.64632 ],\n",
       "       [ 64.76065 ,  65.21342 ],\n",
       "       [147.77505 , 148.73125 ],\n",
       "       [128.90883 , 129.73853 ],\n",
       "       [ 98.752914,  99.44804 ]], dtype=float32)"
      ]
     },
     "execution_count": 14,
     "metadata": {},
     "output_type": "execute_result"
    }
   ],
   "source": [
    "# insert code here\n",
    "\n",
    "y_pred = model.predict(X_test)\n",
    "y_pred"
   ]
  },
  {
   "cell_type": "markdown",
   "metadata": {
    "colab_type": "text",
    "id": "-unEmrGo1KeA"
   },
   "source": [
    "### Evaluate the model"
   ]
  },
  {
   "cell_type": "code",
   "execution_count": 16,
   "metadata": {
    "colab": {},
    "colab_type": "code",
    "id": "QCIVpVrG1KeB"
   },
   "outputs": [
    {
     "name": "stdout",
     "output_type": "stream",
     "text": [
      "2/2 [==============================] - 0s 3ms/step - loss: 3354.7778 - mse: 3354.7778 - mae: 48.5517 - mean_absolute_percentage_error: 41.8961\n"
     ]
    },
    {
     "data": {
      "text/plain": [
       "[3354.77783203125, 3354.77783203125, 48.551666259765625, 41.896121978759766]"
      ]
     },
     "execution_count": 16,
     "metadata": {},
     "output_type": "execute_result"
    }
   ],
   "source": [
    "# insert code here\n",
    "\n",
    "model.evaluate(X_test, y_test, batch_size=128)"
   ]
  },
  {
   "cell_type": "markdown",
   "metadata": {
    "colab_type": "text",
    "id": "sSlqjs7e1KeD"
   },
   "source": [
    "### Visualisation of cost"
   ]
  },
  {
   "cell_type": "code",
   "execution_count": 15,
   "metadata": {
    "colab": {},
    "colab_type": "code",
    "id": "1F6hYpNh1KeE",
    "scrolled": true
   },
   "outputs": [
    {
     "data": {
      "image/png": "[encoded data removed]",
      "text/plain": [
       "<Figure size 432x288 with 1 Axes>"
      ]
     },
     "metadata": {
      "needs_background": "light"
     },
     "output_type": "display_data"
    }
   ],
   "source": [
    "# insert code here\n",
    "\n",
    "ax = plt.subplot()\n",
    "\n",
    "ax.plot(history.history['loss'], label = 'Training')\n",
    "ax.plot(history.history['val_loss'], label = 'Validation')\n",
    "ax.set_title('Model loss')\n",
    "ax.set_ylabel('Loss')\n",
    "ax.set_xlabel('Epoch')\n",
    "ax.legend()\n",
    "\n",
    "plt.show()"
   ]
  },
  {
   "cell_type": "markdown",
   "metadata": {
    "colab_type": "text",
    "id": "vQLzMZTM1KeG"
   },
   "source": [
    "### Visualisation of residuals"
   ]
  },
  {
   "cell_type": "code",
   "execution_count": 17,
   "metadata": {
    "colab": {},
    "colab_type": "code",
    "id": "opIulVSw1KeH"
   },
   "outputs": [
    {
     "data": {
      "image/png": "[encoded data removed]",
      "text/plain": [
       "<Figure size 432x288 with 1 Axes>"
      ]
     },
     "metadata": {
      "needs_background": "light"
     },
     "output_type": "display_data"
    }
   ],
   "source": [
    "# insert code here\n",
    "\n",
    "ax = plt.subplot()\n",
    "\n",
    "#ax.plot(history.history['mse'], label = 'MSE')\n",
    "ax.plot(history.history['mae'], label = 'MAE')\n",
    "ax.set_title('Model Error')\n",
    "ax.set_ylabel('Residuals')\n",
    "ax.set_xlabel('Epoch')\n",
    "ax.legend()\n",
    "\n",
    "plt.show()"
   ]
  },
  {
   "cell_type": "markdown",
   "metadata": {
    "colab_type": "text",
    "id": "RERADKgNFq9T"
   },
   "source": [
    "\n",
    "\n",
    "---\n",
    "\n",
    "\n",
    "\n",
    "---\n",
    "\n",
    "\n",
    "\n",
    "> > > > > > > > > © 2021 Institute of Data\n",
    "\n",
    "\n",
    "---\n",
    "\n",
    "\n",
    "\n",
    "---\n",
    "\n",
    "\n",
    "\n"
   ]
  }
 ],
 "metadata": {
  "colab": {
   "collapsed_sections": [],
   "name": "DSIA Lab-10_1.ipynb",
   "provenance": []
  },
  "kernelspec": {
   "display_name": "Python 3",
   "language": "python",
   "name": "python3"
  },
  "language_info": {
   "codemirror_mode": {
    "name": "ipython",
    "version": 3
   },
   "file_extension": ".py",
   "mimetype": "text/x-python",
   "name": "python",
   "nbconvert_exporter": "python",
   "pygments_lexer": "ipython3",
   "version": "3.8.3"
  }
 },
 "nbformat": 4,
 "nbformat_minor": 1
}
